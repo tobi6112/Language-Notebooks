{
 "cells": [
  {
   "cell_type": "markdown",
   "metadata": {},
   "source": [
    "# Idioms\n",
    "\n",
    "A collection of frequently used idioms in Kotlin\n",
    "\n",
    "## Creating DTOs\n",
    "\n",
    "The `data class` provides a class with getters (and setters in case of `var`), `equals()`, `hashCode()`, `copy()` implementations"
   ]
  },
  {
   "cell_type": "code",
   "execution_count": 1,
   "metadata": {},
   "outputs": [
    {
     "name": "stdout",
     "output_type": "stream",
     "text": [
      "Customer(name=Max, email=example@example.org)\n",
      "Customer(name=Max, email=example2@€xample.org)\n"
     ]
    }
   ],
   "source": [
    "data class Customer(val name: String, var email: String)\n",
    "\n",
    "val customer = Customer(\"Max\", \"example@example.org\")\n",
    "println(customer)\n",
    "customer.email = \"example2@€xample.org\"\n",
    "println(customer)"
   ]
  },
  {
   "cell_type": "markdown",
   "metadata": {},
   "source": [
    "## Default values for parameters\n",
    "\n",
    "You can provide default values for parameters"
   ]
  },
  {
   "cell_type": "code",
   "execution_count": 2,
   "metadata": {},
   "outputs": [
    {
     "name": "stdout",
     "output_type": "stream",
     "text": [
      "64\n",
      "52\n"
     ]
    }
   ],
   "source": [
    "fun sum(a: Int, b: Int = 0) : Int = a + b\n",
    "\n",
    "println(sum(52, 12))\n",
    "println(sum(52))"
   ]
  },
  {
   "cell_type": "markdown",
   "metadata": {},
   "source": [
    "## Ranges\n",
    "\n",
    "Some useful idioms for operating with ranges"
   ]
  },
  {
   "cell_type": "code",
   "execution_count": 19,
   "metadata": {},
   "outputs": [],
   "source": [
    "for(i in 1..10){}        //1,2,3,4,5,6,7,8,9,10\n",
    "for(i in 1 until 10){}   //1,2,3,4,5,6,7,8,9\n",
    "for(i in 1..10 step 2){} //1,3,5,7,9\n",
    "for(i in 10 downTo 0){}  //10,9,8,7,6,5,4,3,2,1,0"
   ]
  },
  {
   "cell_type": "markdown",
   "metadata": {},
   "source": [
    "## Extension Functions\n",
    "\n",
    "Sometimes the needed function is not given on a type and you'd like to implement it by yourself"
   ]
  },
  {
   "cell_type": "code",
   "execution_count": 21,
   "metadata": {},
   "outputs": [
    {
     "data": {
      "text/plain": [
       "5"
      ]
     },
     "execution_count": 21,
     "metadata": {
      "new_classpath": []
     },
     "output_type": "execute_result"
    }
   ],
   "source": [
    "fun Int.sum2(b: Int) = this + b\n",
    "\n",
    "2.sum2(3)"
   ]
  },
  {
   "cell_type": "markdown",
   "metadata": {},
   "source": [
    "## Do if not null\n",
    "\n",
    "When you don't want to use `if(a == null) { ... }`"
   ]
  },
  {
   "cell_type": "code",
   "execution_count": 22,
   "metadata": {},
   "outputs": [
    {
     "name": "stdout",
     "output_type": "stream",
     "text": [
      "21"
     ]
    }
   ],
   "source": [
    "val a: Int? = 21\n",
    "\n",
    "a?.let {\n",
    "    print(it)\n",
    "}"
   ]
  },
  {
   "cell_type": "markdown",
   "metadata": {},
   "source": [
    "## Calling multiple methods / properties on object"
   ]
  },
  {
   "cell_type": "code",
   "execution_count": 26,
   "metadata": {},
   "outputs": [
    {
     "name": "stdout",
     "output_type": "stream",
     "text": [
      "100\n",
      "24\n"
     ]
    }
   ],
   "source": [
    "class Rectangle(var length: Int, var width: Int) {\n",
    "    fun square() = length * width\n",
    "}\n",
    "\n",
    "val rect = Rectangle(10, 10).apply {\n",
    "    println(square())\n",
    "}\n",
    "\n",
    "rect.apply {\n",
    "    length = 12\n",
    "    width = 2\n",
    "}\n",
    "\n",
    "println(rect.square())"
   ]
  },
  {
   "cell_type": "markdown",
   "metadata": {},
   "source": [
    "## TODO\n",
    "\n",
    "Mark incomplete code as TODO"
   ]
  },
  {
   "cell_type": "code",
   "execution_count": 30,
   "metadata": {},
   "outputs": [
    {
     "name": "stdout",
     "output_type": "stream",
     "text": [
      "An operation is not implemented: Not yet implemented\n"
     ]
    }
   ],
   "source": [
    "fun foo(): Int = TODO(\"Not yet implemented\")\n",
    "\n",
    "try {\n",
    "    foo()\n",
    "} catch(e: NotImplementedError) {\n",
    "    println(e.message)\n",
    "}"
   ]
  },
  {
   "cell_type": "code",
   "execution_count": null,
   "metadata": {},
   "outputs": [],
   "source": []
  }
 ],
 "metadata": {
  "kernelspec": {
   "display_name": "Kotlin",
   "language": "kotlin",
   "name": "kotlin"
  },
  "language_info": {
   "codemirror_mode": "text/x-kotlin",
   "file_extension": ".kt",
   "mimetype": "text/x-kotlin",
   "name": "kotlin",
   "pygments_lexer": "kotlin",
   "version": "1.4.30-dev-3354"
  }
 },
 "nbformat": 4,
 "nbformat_minor": 4
}
