{
 "cells": [
  {
   "cell_type": "markdown",
   "metadata": {},
   "source": [
    "# Strings\n",
    "\n",
    "## String Templating \n",
    "\n",
    "When you need to compose a String out of values evalutated at runtime you can use the String templating"
   ]
  },
  {
   "cell_type": "code",
   "execution_count": 2,
   "metadata": {},
   "outputs": [
    {
     "name": "stdout",
     "output_type": "stream",
     "text": [
      "5 + 4 = 9"
     ]
    }
   ],
   "source": [
    "val a = 5\n",
    "val b = 4\n",
    "val c = a + b\n",
    "print(\"$a + $b = $c\")"
   ]
  },
  {
   "cell_type": "markdown",
   "metadata": {},
   "source": [
    "You can also evaluate expressions like this"
   ]
  },
  {
   "cell_type": "code",
   "execution_count": 4,
   "metadata": {},
   "outputs": [
    {
     "name": "stdout",
     "output_type": "stream",
     "text": [
      "5 + 4 = 9"
     ]
    }
   ],
   "source": [
    "val a = 5\n",
    "val b = 4\n",
    "print(\"$a + $b = ${a + b}\")"
   ]
  },
  {
   "cell_type": "markdown",
   "metadata": {},
   "source": [
    "Or even more complex expressions:"
   ]
  },
  {
   "cell_type": "code",
   "execution_count": 6,
   "metadata": {},
   "outputs": [
    {
     "name": "stdout",
     "output_type": "stream",
     "text": [
      "45"
     ]
    }
   ],
   "source": [
    "val numbers = arrayOf(1, 2, 3, 4, 5, 6, 7, 8, 9)\n",
    "print(\"${numbers.fold(0) { acc, number -> acc + number}}\") //Calculates the sum of all numbers in the array `numbers`"
   ]
  },
  {
   "cell_type": "markdown",
   "metadata": {},
   "source": [
    "But to print simple values (like in the example above) you do not need to rely on String templating"
   ]
  },
  {
   "cell_type": "code",
   "execution_count": 7,
   "metadata": {},
   "outputs": [
    {
     "name": "stdout",
     "output_type": "stream",
     "text": [
      "45"
     ]
    }
   ],
   "source": [
    "val numbers = arrayOf(1, 2, 3, 4, 5, 6, 7, 8, 9)\n",
    "print(numbers.fold(0) { acc, number -> acc + number}) //Calculates the sum of all numbers in the array `numbers`"
   ]
  },
  {
   "cell_type": "code",
   "execution_count": 9,
   "metadata": {},
   "outputs": [
    {
     "name": "stdout",
     "output_type": "stream",
     "text": [
      "9"
     ]
    }
   ],
   "source": [
    "val a = 5\n",
    "val b = 4\n",
    "print(a + b)"
   ]
  }
 ],
 "metadata": {
  "kernelspec": {
   "display_name": "Kotlin",
   "language": "kotlin",
   "name": "kotlin"
  },
  "language_info": {
   "codemirror_mode": "text/x-kotlin",
   "file_extension": ".kt",
   "mimetype": "text/x-kotlin",
   "name": "kotlin",
   "pygments_lexer": "kotlin",
   "version": "1.4.30-dev-3354"
  }
 },
 "nbformat": 4,
 "nbformat_minor": 4
}
