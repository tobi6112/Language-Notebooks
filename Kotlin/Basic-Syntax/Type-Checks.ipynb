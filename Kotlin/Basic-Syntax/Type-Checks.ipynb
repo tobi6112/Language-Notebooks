{
 "cells": [
  {
   "cell_type": "markdown",
   "metadata": {},
   "source": [
    "# Type Checks and casting\n",
    "\n",
    "You can check whether an expression is an instance of a type."
   ]
  },
  {
   "cell_type": "code",
   "execution_count": 6,
   "metadata": {},
   "outputs": [
    {
     "name": "stdout",
     "output_type": "stream",
     "text": [
      "I'm not a Number\n",
      "I'm a Number\n"
     ]
    }
   ],
   "source": [
    "fun isNumber(a: Any) {\n",
    "    if(a is Number) {\n",
    "        println(\"I'm a Number\")\n",
    "    } else {\n",
    "        println(\"I'm not a Number\")\n",
    "    }\n",
    "}\n",
    "\n",
    "isNumber(\"This is not a number\")\n",
    "isNumber(2)"
   ]
  },
  {
   "cell_type": "markdown",
   "metadata": {},
   "source": [
    "Smart-Casting where the type is inferred"
   ]
  },
  {
   "cell_type": "code",
   "execution_count": 17,
   "metadata": {},
   "outputs": [
    {
     "name": "stdout",
     "output_type": "stream",
     "text": [
      "16\n",
      "-1\n"
     ]
    }
   ],
   "source": [
    "fun calculateStringLength(a: Any): Int {\n",
    "    if(a is String) {\n",
    "        return a.length\n",
    "    }\n",
    "    return -1\n",
    "}\n",
    "\n",
    "println(calculateStringLength(\"This is a string\"))\n",
    "println(calculateStringLength(22))"
   ]
  }
 ],
 "metadata": {
  "kernelspec": {
   "display_name": "Kotlin",
   "language": "kotlin",
   "name": "kotlin"
  },
  "language_info": {
   "codemirror_mode": "text/x-kotlin",
   "file_extension": ".kt",
   "mimetype": "text/x-kotlin",
   "name": "kotlin",
   "pygments_lexer": "kotlin",
   "version": "1.4.30-dev-3354"
  }
 },
 "nbformat": 4,
 "nbformat_minor": 4
}
